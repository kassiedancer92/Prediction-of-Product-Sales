{
  "nbformat": 4,
  "nbformat_minor": 0,
  "metadata": {
    "colab": {
      "provenance": []
    },
    "kernelspec": {
      "name": "python3",
      "display_name": "Python 3"
    },
    "language_info": {
      "name": "python"
    }
  },
  "cells": [
    {
      "cell_type": "code",
      "execution_count": null,
      "metadata": {
        "id": "6pbtJqhaPA--"
      },
      "outputs": [],
      "source": []
    },
    {
      "cell_type": "markdown",
      "source": [
        "# Prediction of Product Sales\n",
        "Kassandra Doran"
      ],
      "metadata": {
        "id": "RYIF0_nuPMOf"
      }
    },
    {
      "cell_type": "markdown",
      "source": [
        "##Project Overview"
      ],
      "metadata": {
        "id": "zJdIip2iPSOb"
      }
    },
    {
      "cell_type": "markdown",
      "source": [
        "## Load and Inspect Data"
      ],
      "metadata": {
        "id": "zps1vhYmPXrb"
      }
    },
    {
      "cell_type": "code",
      "source": [],
      "metadata": {
        "id": "f3vwBv65QKLU"
      },
      "execution_count": null,
      "outputs": []
    },
    {
      "cell_type": "markdown",
      "source": [
        "## Clean Data"
      ],
      "metadata": {
        "id": "Le3G8ExIPe7V"
      }
    },
    {
      "cell_type": "code",
      "source": [],
      "metadata": {
        "id": "zjDPYNx8QKo6"
      },
      "execution_count": null,
      "outputs": []
    },
    {
      "cell_type": "markdown",
      "source": [
        "## Explanatory Data Analysis"
      ],
      "metadata": {
        "id": "X54MYjakPlOU"
      }
    },
    {
      "cell_type": "code",
      "source": [],
      "metadata": {
        "id": "wb3fpl9nQLIK"
      },
      "execution_count": null,
      "outputs": []
    },
    {
      "cell_type": "markdown",
      "source": [
        "## Exploratory Data Analysis"
      ],
      "metadata": {
        "id": "Asnh9hhRP59C"
      }
    },
    {
      "cell_type": "code",
      "source": [],
      "metadata": {
        "id": "hhbDG1iaQLj2"
      },
      "execution_count": null,
      "outputs": []
    }
  ]
}